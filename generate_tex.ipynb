{
 "cells": [
  {
   "cell_type": "code",
   "execution_count": 595,
   "id": "b603f4a1",
   "metadata": {},
   "outputs": [],
   "source": [
    "import json\n",
    "import re\n",
    "\n",
    "with open('cv_entries.json', 'r') as file:\n",
    "    data = json.load(file)\n",
    "\n",
    "\n",
    "latex_greek_chars = {\n",
    "    \"α\": r\"$\\alpha$\",\n",
    "    \"β\": r\"$\\beta$\",\n",
    "    \"γ\": r\"$\\gamma$\",\n",
    "    \"δ\": r\"$\\delta$\",\n",
    "    \"ε\": r\"$\\epsilon$\",\n",
    "    \"θ\": r\"$\\theta$\",\n",
    "    \"λ\": r\"$\\lambda$\",\n",
    "    \"μ\": r\"$\\mu$\",\n",
    "    \"π\": r\"$\\pi$\",\n",
    "    \"ρ\": r\"$\\rho$\",\n",
    "    \"σ\": r\"$\\sigma$\",\n",
    "    \"τ\": r\"$\\tau$\",\n",
    "    \"φ\": r\"$\\phi$\",\n",
    "    \"χ\": r\"$\\chi$\",\n",
    "    \"ψ\": r\"$\\psi$\",\n",
    "    \"ω\": r\"$\\omega$\",\n",
    "    \"Δ\": r\"$\\Delta$\",\n",
    "    \"Γ\": r\"$\\Gamma$\",\n",
    "    \"Σ\": r\"$\\Sigma$\",\n",
    "    \"Φ\": r\"$\\Phi$\",\n",
    "    \"Ψ\": r\"$\\Psi$\",\n",
    "    \"Ω\": r\"$\\Omega$\",\n",
    "    \"√sNN\" : r\"$\\sqrt{s_{NN}}$\"\n",
    "}\n",
    "\n",
    "def translate_to_tex(input):\n",
    "    for raw in latex_greek_chars:\n",
    "        input = input.replace(raw, latex_greek_chars[raw])\n",
    "    return input\n",
    "\n",
    "def fix_units_spacing(text):\n",
    "    # Matches a number (int or float) followed by optional space(s), then units (letters, %, °, etc.)\n",
    "    pattern = r'(\\d+(?:\\.\\d+)?)(\\s*)([a-zA-Z%°]+)'\n",
    "    # Replace with number + ~ + units (non-breaking space)\n",
    "    fixed_text = re.sub(pattern, r'\\1~\\3', text)\n",
    "    return fixed_text\n",
    "\n",
    "def to_sentence(text):\n",
    "    text = text[0].upper() + text[1:]\n",
    "    return text"
   ]
  },
  {
   "cell_type": "code",
   "execution_count": 596,
   "id": "353cff64",
   "metadata": {},
   "outputs": [],
   "source": [
    "full_tex = r\"\"\"\n",
    "\\documentclass[11pt,a4paper]{article}\n",
    "\\usepackage{array}\n",
    "\\usepackage[margin=1in]{geometry}\n",
    "\\usepackage{enumitem}\n",
    "\\usepackage{hyperref}\n",
    "\\usepackage{graphicx}\n",
    "\\usepackage{titlesec}\n",
    "\\usepackage{parskip}\n",
    "\\usepackage[dvipsnames]{xcolor}\n",
    "\\usepackage{multirow}\n",
    "\\usepackage{amsmath}\n",
    "\\usepackage{MnSymbol}\n",
    "\\usepackage{wasysym}\n",
    "\n",
    "\n",
    "\\setlength{\\parindent}{0pt}\n",
    "\\titleformat{\\section}{\\Large\\bfseries}{}{0em}{}\n",
    "\\titleformat{\\subsection}{\\normalsize\\bfseries}{}{0em}{}\n",
    "\n",
    "\\begin{document}\n",
    "\\renewcommand{\\baselinestretch}{1.0}\n",
    "\"\"\""
   ]
  },
  {
   "cell_type": "markdown",
   "id": "e79aa042",
   "metadata": {},
   "source": [
    "##### Header Section"
   ]
  },
  {
   "cell_type": "code",
   "execution_count": 597,
   "id": "8a0787f2",
   "metadata": {},
   "outputs": [],
   "source": [
    "\n",
    "full_tex += r\"\"\"\n",
    "\\begin{table}[htb!]\n",
    "    \\begin{tabular}{p{0.7\\textwidth} p{0.3\\textwidth}}\n",
    "        \\Large\n",
    "\"\"\"\n",
    "full_tex += r\"\\centering{\\textbf{{\" + data['profile']['name'] + r\"}}\" + \"\\\\\\\\\\n\" + r\"\\vspace{-5pt}\"\n",
    "full_tex += r\"\"\"\n",
    "\\vspace{-5pt}\n",
    "\\par\\noindent\\rule{0.9\\linewidth}{0.2pt}\n",
    "\"\"\"\n",
    "full_tex += r\"\\large{{\" + \"-\".join(data['profile']['brief'].split('|')) + r\"}}}\\\\\"\n",
    "\n",
    "\n",
    "full_tex += r\"\"\"\n",
    "         & \\multirow{5}{*}{\\reflectbox{\\includegraphics[scale=0.04]{images/profile_image.jpeg}}}\\\\\n",
    "        \\normalsize\n",
    "\"\"\"\n",
    "\n",
    "\n",
    "full_tex += r\"\\begin{tabular}{>{\\raggedleft\\arraybackslash}p{0.20\\linewidth} p{0.7\\linewidth}}\" + \"\\n\"\n",
    "full_tex += r\"\\textbf{Affiliations}: & \" + f\"{data['profile']['affiliations'][0]['name']}, {data['profile']['affiliations'][0]['location']}\" + \" \\\\\\\\\\n\"\n",
    "for aff in data['profile']['affiliations'][1:]:\n",
    "    full_tex += \" & \" f\"{aff['name']}, {aff['location']}\\\\\\\\\\n\"\n",
    "full_tex += r\"\\textbf{Address}: & \" + data['profile']['address'] + \"\\\\\\\\\\n\"\n",
    "emails = [f\"\\\\href{{mailto:{e}}}{{{e}}}\" for e in data['profile']['email']]\n",
    "full_tex += r\"\\textbf{E-mail}: & \" + \", \".join(emails) + r\"\\\\\\n\"\n",
    "full_tex += r\"\\textbf{Born}: & \" + data['profile']['birth'] + \"\\\\\\\\\\n\"\n",
    "full_tex += r\"\\textbf{Homepage}: & \\href{\" + f\"{data['profile']['homepage']}}}{{{data['profile']['homepage']}}}\"  + \"\\\\\\\\\\n\"\n",
    "\n",
    "full_tex += \"\\\\end{tabular}\\n\"\n",
    "\n",
    "\n",
    "full_tex += r\"\"\"\n",
    "    \\end{tabular}\n",
    "\\end{table}\n",
    "\"\"\""
   ]
  },
  {
   "cell_type": "markdown",
   "id": "c4f7cc51",
   "metadata": {},
   "source": [
    "##### Skills Summary"
   ]
  },
  {
   "cell_type": "code",
   "execution_count": 598,
   "id": "ac77ff76",
   "metadata": {},
   "outputs": [],
   "source": [
    "full_tex += r\"\"\"\n",
    "\\vspace*{0.3cm}\n",
    "\\noindent  \\textbf{\\Large \\color{Blue} Skill Summary:}\n",
    "\\vspace{-15pt}\n",
    "\\par\\noindent\\rule{\\textwidth}{0.4pt}\n",
    "\"\"\"\n",
    "\n",
    "full_tex += \"\\tLenguages: \" + \", \".join(data['skills_summary']['languages']) + \"\\\\\\\\\\n\"\n",
    "full_tex += \"\\tProgramming: \" + \", \".join(data['skills_summary']['programming']) + \"\\\\\\\\\\n\"\n",
    "full_tex += \"\\tAdditional tools: \" + \", \".join(data['skills_summary']['additional_tools']) + \"\\\\\\\\\\n\"\n",
    "\n",
    "full_tex += \"\\\\begin{tabular}{ll}\\n\"\n",
    "full_tex += \"Soft skills: & \" + data['skills_summary']['soft_skills'][0] + \" \\\\\\\\\\n\"\n",
    "\n",
    "for skill in data['skills_summary']['soft_skills'][1:]:\n",
    "    full_tex += \" & \" + skill + \" \\\\\\\\\\n\"\n",
    "\n",
    "full_tex += \"\\\\end{tabular}\\n\"\n",
    "\n",
    "\n",
    "\n",
    "full_tex += \"\\n\\n\""
   ]
  },
  {
   "cell_type": "markdown",
   "id": "4691af18",
   "metadata": {},
   "source": [
    "##### Profesional Experience"
   ]
  },
  {
   "cell_type": "code",
   "execution_count": 599,
   "id": "cddb2a18",
   "metadata": {},
   "outputs": [],
   "source": [
    "full_tex += r\"\"\"\n",
    "\\vspace*{0.3cm}\n",
    "\\noindent  \\textbf{\\Large \\color{Blue} Professional experience:}\n",
    "\\vspace{-15pt}\n",
    "\\par\\noindent\\rule{\\textwidth}{0.4pt}\n",
    "\\begin{itemize}\n",
    "\"\"\"\n",
    "\n",
    "\n",
    "for entry in data['professional_experience']:\n",
    "    tex  = \"\\t\" + r\"\\item[\\scalebox{0.5}{$\\blacksquare$}] \\textbf{\"\n",
    "    tex += \"\\t\" + entry[\"date_start\"] +\" - \"+ entry[\"date_end\"] + \":} \" + entry[\"role\"] + \", \" + entry[\"institution\"] + \" - \" + entry['department'] + r\".\\\\\"+ \"\\n\"\n",
    "    tex += \"\\t\" + entry['details'] + \"\\n\"\n",
    "    full_tex += tex\n",
    "\n",
    "full_tex += r\"\\end{itemize}\"\n",
    "full_tex += \"\\n\\n\"\n"
   ]
  },
  {
   "cell_type": "markdown",
   "id": "b59d8f6d",
   "metadata": {},
   "source": [
    "##### Education"
   ]
  },
  {
   "cell_type": "code",
   "execution_count": 600,
   "id": "1eb249fc",
   "metadata": {},
   "outputs": [],
   "source": [
    "full_tex += r\"\"\"\n",
    "\\vspace*{0.3cm}\n",
    "\\noindent \\textbf{\\Large \\color{Blue} Education:}\n",
    "\\vspace{-15pt}\n",
    "\\par\\noindent\\rule{\\textwidth}{0.4pt}\n",
    "\\begin{itemize}\n",
    "\"\"\"\n",
    "for entry in data['education']:\n",
    "    tex  = \"\\t\" + r\"\\item[\\scalebox{0.5}{$\\blacksquare$}] \\textbf{\"\n",
    "    tex += entry[\"date_start\"] +\" - \"+ entry[\"date_end\"] + \":} \" + entry[\"degree\"] + \", \" + entry[\"institution\"] + r\".\\\\\" + \"\\n\"\n",
    "    tex += \"\\t\" + r\"\\textbf{Thesis}: \\textit{\" + fix_units_spacing(entry[\"details\"][\"thesis\"]) + r\"}\\\\\"+ \"\\n\"\n",
    "    tex += \"\\t\" + r\"\\textbf{Supervisor}: \" + entry[\"details\"][\"supervisor\"] + \"\\n\"\n",
    "    full_tex += tex\n",
    "\n",
    "full_tex += r\"\\end{itemize}\"\n",
    "full_tex += \"\\n\\n\""
   ]
  },
  {
   "cell_type": "markdown",
   "id": "f941d910",
   "metadata": {},
   "source": [
    "##### Summer schools and internships"
   ]
  },
  {
   "cell_type": "code",
   "execution_count": 601,
   "id": "83b70f5a",
   "metadata": {},
   "outputs": [],
   "source": [
    "full_tex += r\"\"\"\n",
    "\\noindent \\textbf{Summer schools and internships:}\n",
    "\\begin{itemize}\n",
    "\"\"\"\n",
    "\n",
    "for entry in data['summer_schools_internships']:\n",
    "    tex  = \"\\t\" + r\"\\item[\\scalebox{0.5}{$\\blacksquare$}]\\textbf{\"\n",
    "    tex += entry[\"date_start\"] +\" - \"+ entry[\"date_end\"] + \":} \" + entry[\"program\"] + \", \" + entry[\"location\"] + r\".\\\\\"+ \"\\n\"\n",
    "    tex += \"\\t\" + r\"\\textbf{Work Topic}: \\textit{\" + fix_units_spacing(entry[\"details\"][\"work_report\"]) + r\"}\\\\\"+ \"\\n\"\n",
    "    tex += \"\\t\" + r\"\\textbf{Supervisor}: \" + entry[\"details\"][\"supervisor\"] + \"\\n\"\n",
    "    full_tex += tex\n",
    "\n",
    "full_tex += r\"\\end{itemize}\"\n",
    "full_tex += \"\\n\\n\""
   ]
  },
  {
   "cell_type": "markdown",
   "id": "5dadc107",
   "metadata": {},
   "source": [
    "##### Publications"
   ]
  },
  {
   "cell_type": "code",
   "execution_count": 602,
   "id": "c6987ea9",
   "metadata": {},
   "outputs": [
    {
     "name": "stdout",
     "output_type": "stream",
     "text": [
      "No DOI available for {'title': 'Performance of the prototype Silicon Tracking System of the CBM experiment tested with heavy-ion beams at SIS18', 'authors': 'D. Ramirez et al. (CBM Collaboration)', 'journal': 'Nuclear Inst. and Methods in Physics Research, A', 'year': '', 'vol': '', 'pages': '', 'doi': '', 'details': 'Submission Being Processed (June 2025)'}\n",
      "No DOI available for {'title': 'Performance of hit, track, and vertex reconstruction of the Silicon Tracking System of the CBM experiment', 'authors': 'D. Ramirez', 'conference': 'FAIR next generation scientists - 8th Edition Workshop (FAIRness2024)', 'location': 'Seget, Croatia', 'date': 'Sept 23-27, 2024', 'details': ' (On Editorial phase)'}\n"
     ]
    }
   ],
   "source": [
    "full_tex += r\"\"\"\n",
    "\\vspace*{0.3cm}\n",
    "\\noindent  \\textbf{\\Large \\color{Blue} Publications:}\n",
    "\\vspace{-15pt}\n",
    "\\par\\noindent\\rule{\\textwidth}{0.4pt}\n",
    "\\begin{itemize}\n",
    "\"\"\"\n",
    "\n",
    "for entry in data['publications']['journal']:\n",
    "    tex  = \"\\t\" + r\"\\item[\\scalebox{0.5}{$\\blacksquare$}]\" + f\" {entry['authors']}, \\\\textit\" + '{' + f\"{fix_units_spacing(translate_to_tex(entry['title']))}.\" + \"} \"\n",
    "    tex += f\"{entry['journal']}\"\n",
    "    if len(entry['doi']) != 0:\n",
    "        tex += f\", {entry['year']} \\\\\\\\\\n\\t{entry['doi']}\\n\"\n",
    "    else:\n",
    "        tex += f\"\\\\\\\\\\n\\t{entry['details']}\\n\"\n",
    "        print(f\"No DOI available for {entry}\")\n",
    "    full_tex += tex\n",
    "\n",
    "for entry in data['publications']['conference_proceedings']:\n",
    "    tex  = \"\\t\" + r\"\\item[\\scalebox{0.5}{$\\blacksquare$}]\" + f\" {entry['authors']}, \\\\textit\" + '{' + f\"{fix_units_spacing(translate_to_tex(entry['title']))}.\" + '}' + \"\\\\\\\\\\n\"\n",
    "    tex += f\"\\tProceedings: {entry['conference']}, {entry['date']}, {entry['location']}\\\\\\\\\\n\"\n",
    "    try:\n",
    "        doi = entry['doi']\n",
    "        tex += f\"\\t{doi}\\n\"\n",
    "    except:\n",
    "        tex += f\"\\t{entry['details']}\\n\"\n",
    "        print(f\"No DOI available for {entry}\")\n",
    "    full_tex += tex\n",
    "\n",
    "for entry in data['publications']['technical_reports']:\n",
    "    tex  = \"\\t\" + r\"\\item[\\scalebox{0.5}{$\\blacksquare$}]\" + f\" {entry['authors']}, \\\\textit\" + '{' + f\"{fix_units_spacing(translate_to_tex(entry['title']))}.\" + \"} \"\n",
    "    tex += f\"{entry['journal']}\"\n",
    "    if len(entry['doi']) != 0:\n",
    "        tex += f\", {entry['year']} \\\\\\\\\\n\\t{entry['doi']}\\n\"\n",
    "    else:\n",
    "        tex += f\"\\\\\\\\\\n\\t{entry['details']}\\n\"\n",
    "        print(f\"No DOI available for {entry}\")\n",
    "    full_tex += tex\n",
    "\n",
    "full_tex += r\"\\end{itemize}\"\n",
    "full_tex += \"\\n\\n\""
   ]
  },
  {
   "cell_type": "markdown",
   "id": "b37ef8d9",
   "metadata": {},
   "source": [
    "##### Conferences"
   ]
  },
  {
   "cell_type": "code",
   "execution_count": 603,
   "id": "2fc20961",
   "metadata": {},
   "outputs": [],
   "source": [
    "full_tex += r\"\"\"\n",
    "\\vspace*{0.3cm}\n",
    "\\noindent  \\textbf{\\Large \\color{Blue} Conference Participation:}\n",
    "\\vspace{-15pt}\n",
    "\\par\\noindent\\rule{\\textwidth}{0.4pt}\n",
    "\\begin{itemize}\n",
    "\"\"\"\n",
    "\n",
    "for entry in data['conference_participation']:\n",
    "    tex  = \"\\t\" + r\"\\item[\\scalebox{0.5}{$\\blacksquare$}]\" + f\" {entry['name']}, {entry['date']}, {entry['location']}\" + r\".\\\\\" + '\\n'\n",
    "    if len(entry['contribution']) != 0:\n",
    "        tex += \"\\t\" + r\"Contribution: \\textit{\" + fix_units_spacing(translate_to_tex(entry['contribution'])) + r\"}\" + \"\\n\"\n",
    "    else:\n",
    "        tex = tex.replace(r\"\\\\\", \"\")\n",
    "    full_tex += tex\n",
    "\n",
    "full_tex += r\"\\end{itemize}\"\n",
    "full_tex += \"\\n\\n\"\n"
   ]
  },
  {
   "cell_type": "markdown",
   "id": "f90bc6ae",
   "metadata": {},
   "source": [
    "##### Awards"
   ]
  },
  {
   "cell_type": "code",
   "execution_count": 604,
   "id": "45c11348",
   "metadata": {},
   "outputs": [],
   "source": [
    "full_tex += r\"\"\"\n",
    "\\vspace*{0.3cm}\n",
    "\\noindent  \\textbf{\\Large \\color{Blue} Awards:}\n",
    "\\vspace{-15pt}\n",
    "\\par\\noindent\\rule{\\textwidth}{0.4pt}\n",
    "\\begin{itemize}\n",
    "\"\"\"\n",
    "\n",
    "for entry in data['awards']:\n",
    "    tex  = \"\\t\" + r\"\\item[\\scalebox{0.5}{$\\blacksquare$}]\" + f\" {entry}.\\\\\\\\\\n\"\n",
    "    full_tex += tex\n",
    "\n",
    "full_tex += r\"\\end{itemize}\"\n",
    "full_tex += \"\\n\\n\""
   ]
  },
  {
   "cell_type": "markdown",
   "id": "723783c1",
   "metadata": {},
   "source": [
    "##### Wrap up"
   ]
  },
  {
   "cell_type": "code",
   "execution_count": 605,
   "id": "b56907df",
   "metadata": {},
   "outputs": [],
   "source": [
    "full_tex += \"\\n\\n\" + r\"\\end{document}\"\n",
    "\n",
    "full_tex = translate_to_tex(full_tex)\n",
    "\n",
    "\n",
    "with open(\"cv.tex\", \"w\") as f:\n",
    "    f.writelines(full_tex)"
   ]
  }
 ],
 "metadata": {
  "kernelspec": {
   "display_name": "Python 3",
   "language": "python",
   "name": "python3"
  },
  "language_info": {
   "codemirror_mode": {
    "name": "ipython",
    "version": 3
   },
   "file_extension": ".py",
   "mimetype": "text/x-python",
   "name": "python",
   "nbconvert_exporter": "python",
   "pygments_lexer": "ipython3",
   "version": "3.8.10"
  }
 },
 "nbformat": 4,
 "nbformat_minor": 5
}
